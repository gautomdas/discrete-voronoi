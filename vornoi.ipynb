{
 "cells": [
  {
   "cell_type": "code",
   "execution_count": 26,
   "metadata": {},
   "outputs": [],
   "source": [
    "import numpy as np\n",
    "\n",
    "size = 1000\n",
    "\n",
    "grid = np.zeros((size, size))"
   ]
  },
  {
   "cell_type": "code",
   "execution_count": 48,
   "metadata": {},
   "outputs": [],
   "source": [
    "def get_points(radius):\n",
    "    size = radius+1\n",
    "    x = np.linspace(0, size-1, size)\n",
    "    y = np.linspace(0, size-1, size) \n",
    "\n",
    "    x1, y1 = np.meshgrid(x, y)\n",
    "\n",
    "    tot = np.add(np.square(x1), np.square(y1))\n",
    "\n",
    "    radius = radius+0.5\n",
    "    outer_radius = (radius)**2\n",
    "    inner_radius = (radius-1)**2\n",
    "\n",
    "    tot[tot > outer_radius] = 0\n",
    "    tot[tot <= inner_radius] = 0\n",
    "    x_p, y_p = np.where(tot)\n",
    "    \n",
    "    return x_p, y_p"
   ]
  },
  {
   "cell_type": "code",
   "execution_count": 62,
   "metadata": {},
   "outputs": [
    {
     "name": "stdout",
     "output_type": "stream",
     "text": [
      "Points: 100\n"
     ]
    }
   ],
   "source": [
    "num = size//10\n",
    "print(\"Points:\", num)\n",
    "x = np.array([np.random.randint(0,size,num), np.random.randint(0,size,num)])\n",
    "points = np.swapaxes(x,0,1)"
   ]
  },
  {
   "cell_type": "code",
   "execution_count": null,
   "metadata": {},
   "outputs": [],
   "source": []
  },
  {
   "cell_type": "code",
   "execution_count": 63,
   "metadata": {},
   "outputs": [
    {
     "data": {
      "text/plain": [
       "(100, 2)"
      ]
     },
     "execution_count": 63,
     "metadata": {},
     "output_type": "execute_result"
    }
   ],
   "source": [
    "points.shape"
   ]
  },
  {
   "cell_type": "code",
   "execution_count": 64,
   "metadata": {},
   "outputs": [],
   "source": [
    "count = 0\n",
    "for p in points:\n",
    "    count += 1\n",
    "    grid[p[0]][p[1]] = count"
   ]
  },
  {
   "cell_type": "code",
   "execution_count": 65,
   "metadata": {},
   "outputs": [
    {
     "data": {
      "text/plain": [
       "<matplotlib.image.AxesImage at 0x21239403208>"
      ]
     },
     "execution_count": 65,
     "metadata": {},
     "output_type": "execute_result"
    },
    {
     "data": {
      "image/png": "[encoded data removed]",
      "text/plain": [
       "<Figure size 288x288 with 1 Axes>"
      ]
     },
     "metadata": {
      "needs_background": "light"
     },
     "output_type": "display_data"
    }
   ],
   "source": [
    "import matplotlib.pyplot as plt\n",
    "\n",
    "plt.matshow(grid)"
   ]
  },
  {
   "cell_type": "code",
   "execution_count": 66,
   "metadata": {},
   "outputs": [],
   "source": [
    "from tqdm import tqdm"
   ]
  },
  {
   "cell_type": "code",
   "execution_count": 67,
   "metadata": {},
   "outputs": [
    {
     "name": "stderr",
     "output_type": "stream",
     "text": [
      "\n",
      "  0%|                                                                                          | 0/200 [00:00<?, ?it/s]\u001b[A\n",
      "  2%|█▏                                                                                | 3/200 [00:00<00:09, 20.47it/s]\u001b[A\n",
      "  2%|█▋                                                                                | 4/200 [00:00<00:13, 14.43it/s]\u001b[A\n",
      "  2%|██                                                                                | 5/200 [00:00<00:15, 12.74it/s]\u001b[A\n",
      "  3%|██▍                                                                               | 6/200 [00:00<00:18, 10.38it/s]\u001b[A\n",
      "  4%|██▊                                                                               | 7/200 [00:00<00:21,  9.16it/s]\u001b[A\n",
      "  4%|███▎                                                                              | 8/200 [00:00<00:24,  8.00it/s]\u001b[A\n",
      "  4%|███▋                                                                              | 9/200 [00:01<00:29,  6.42it/s]\u001b[A\n",
      "  5%|████                                                                             | 10/200 [00:01<00:31,  6.03it/s]\u001b[A\n",
      "  6%|████▍                                                                            | 11/200 [00:01<00:35,  5.34it/s]\u001b[A\n",
      "  6%|████▊                                                                            | 12/200 [00:01<00:37,  5.03it/s]\u001b[A\n",
      "  6%|█████▎                                                                           | 13/200 [00:02<00:30,  6.18it/s]\u001b[A\n"
     ]
    },
    {
     "ename": "KeyboardInterrupt",
     "evalue": "",
     "output_type": "error",
     "traceback": [
      "\u001b[1;31m---------------------------------------------------------------------------\u001b[0m",
      "\u001b[1;31mKeyboardInterrupt\u001b[0m                         Traceback (most recent call last)",
      "\u001b[1;32m<ipython-input-67-3f87f8b311b8>\u001b[0m in \u001b[0;36m<module>\u001b[1;34m\u001b[0m\n\u001b[0;32m     16\u001b[0m         \u001b[1;32mfor\u001b[0m \u001b[0mval\u001b[0m \u001b[1;32min\u001b[0m \u001b[0mpoints_two\u001b[0m\u001b[1;33m:\u001b[0m\u001b[1;33m\u001b[0m\u001b[1;33m\u001b[0m\u001b[0m\n\u001b[0;32m     17\u001b[0m             \u001b[1;32mif\u001b[0m \u001b[1;33m(\u001b[0m\u001b[0mp\u001b[0m\u001b[1;33m[\u001b[0m\u001b[1;36m0\u001b[0m\u001b[1;33m]\u001b[0m\u001b[1;33m+\u001b[0m\u001b[0mval\u001b[0m\u001b[1;33m[\u001b[0m\u001b[1;36m0\u001b[0m\u001b[1;33m]\u001b[0m \u001b[1;33m<\u001b[0m \u001b[0msize\u001b[0m \u001b[1;32mand\u001b[0m \u001b[0mp\u001b[0m\u001b[1;33m[\u001b[0m\u001b[1;36m0\u001b[0m\u001b[1;33m]\u001b[0m\u001b[1;33m+\u001b[0m\u001b[0mval\u001b[0m\u001b[1;33m[\u001b[0m\u001b[1;36m0\u001b[0m\u001b[1;33m]\u001b[0m \u001b[1;33m>\u001b[0m \u001b[1;36m0\u001b[0m  \u001b[1;32mand\u001b[0m  \u001b[0mp\u001b[0m\u001b[1;33m[\u001b[0m\u001b[1;36m1\u001b[0m\u001b[1;33m]\u001b[0m\u001b[1;33m+\u001b[0m\u001b[0mval\u001b[0m\u001b[1;33m[\u001b[0m\u001b[1;36m1\u001b[0m\u001b[1;33m]\u001b[0m \u001b[1;33m<\u001b[0m \u001b[0msize\u001b[0m \u001b[1;32mand\u001b[0m \u001b[0mp\u001b[0m\u001b[1;33m[\u001b[0m\u001b[1;36m1\u001b[0m\u001b[1;33m]\u001b[0m\u001b[1;33m+\u001b[0m\u001b[0mval\u001b[0m\u001b[1;33m[\u001b[0m\u001b[1;36m1\u001b[0m\u001b[1;33m]\u001b[0m \u001b[1;33m>\u001b[0m \u001b[1;36m0\u001b[0m\u001b[1;33m)\u001b[0m\u001b[1;33m:\u001b[0m\u001b[1;33m\u001b[0m\u001b[1;33m\u001b[0m\u001b[0m\n\u001b[1;32m---> 18\u001b[1;33m                 \u001b[1;32mif\u001b[0m\u001b[1;33m(\u001b[0m\u001b[0mgrid\u001b[0m\u001b[1;33m[\u001b[0m\u001b[0mp\u001b[0m\u001b[1;33m[\u001b[0m\u001b[1;36m0\u001b[0m\u001b[1;33m]\u001b[0m\u001b[1;33m+\u001b[0m\u001b[0mval\u001b[0m\u001b[1;33m[\u001b[0m\u001b[1;36m0\u001b[0m\u001b[1;33m]\u001b[0m\u001b[1;33m]\u001b[0m\u001b[1;33m[\u001b[0m\u001b[0mp\u001b[0m\u001b[1;33m[\u001b[0m\u001b[1;36m1\u001b[0m\u001b[1;33m]\u001b[0m\u001b[1;33m+\u001b[0m\u001b[0mval\u001b[0m\u001b[1;33m[\u001b[0m\u001b[1;36m1\u001b[0m\u001b[1;33m]\u001b[0m\u001b[1;33m]\u001b[0m \u001b[1;33m==\u001b[0m \u001b[1;36m0\u001b[0m\u001b[1;33m)\u001b[0m\u001b[1;33m:\u001b[0m\u001b[1;33m\u001b[0m\u001b[1;33m\u001b[0m\u001b[0m\n\u001b[0m\u001b[0;32m     19\u001b[0m                         \u001b[0mgrid\u001b[0m\u001b[1;33m[\u001b[0m\u001b[0mp\u001b[0m\u001b[1;33m[\u001b[0m\u001b[1;36m0\u001b[0m\u001b[1;33m]\u001b[0m\u001b[1;33m+\u001b[0m\u001b[0mval\u001b[0m\u001b[1;33m[\u001b[0m\u001b[1;36m0\u001b[0m\u001b[1;33m]\u001b[0m\u001b[1;33m]\u001b[0m\u001b[1;33m[\u001b[0m\u001b[0mp\u001b[0m\u001b[1;33m[\u001b[0m\u001b[1;36m1\u001b[0m\u001b[1;33m]\u001b[0m\u001b[1;33m+\u001b[0m\u001b[0mval\u001b[0m\u001b[1;33m[\u001b[0m\u001b[1;36m1\u001b[0m\u001b[1;33m]\u001b[0m\u001b[1;33m]\u001b[0m \u001b[1;33m=\u001b[0m \u001b[0mcount\u001b[0m\u001b[1;33m\u001b[0m\u001b[1;33m\u001b[0m\u001b[0m\n\u001b[0;32m     20\u001b[0m \u001b[1;33m\u001b[0m\u001b[0m\n",
      "\u001b[1;31mKeyboardInterrupt\u001b[0m: "
     ]
    }
   ],
   "source": [
    "prev = [(0, 0)]\n",
    "\n",
    "for i in tqdm(range(200)):\n",
    "    x_p, y_p = get_points(i+1)\n",
    "    p_point = np.asarray([x_p, y_p])\n",
    "    points_two = np.swapaxes(p_point,0,1)\n",
    "    \n",
    "    for i in range(points_two.shape[0]):\n",
    "        points_two = np.append(points_two, [[-points_two[i][0], -points_two[i][1]]], axis=0)\n",
    "        points_two = np.append(points_two, [[points_two[i][0], -points_two[i][1]]], axis=0)\n",
    "        points_two = np.append(points_two, [[-points_two[i][0], points_two[i][1]]], axis=0)\n",
    "\n",
    "    count = 0\n",
    "    for p in points:\n",
    "        count += 1\n",
    "        for val in points_two:\n",
    "            if (p[0]+val[0] < size and p[0]+val[0] > 0  and  p[1]+val[1] < size and p[1]+val[1] > 0):\n",
    "                if(grid[p[0]+val[0]][p[1]+val[1]] == 0):\n",
    "                        grid[p[0]+val[0]][p[1]+val[1]] = count\n",
    "    "
   ]
  },
  {
   "cell_type": "code",
   "execution_count": 9,
   "metadata": {},
   "outputs": [
    {
     "data": {
      "text/plain": [
       "<matplotlib.image.AxesImage at 0x2123b5620c8>"
      ]
     },
     "execution_count": 9,
     "metadata": {},
     "output_type": "execute_result"
    },
    {
     "data": {
      "image/png": "[encoded data removed]",
      "text/plain": [
       "<Figure size 288x288 with 1 Axes>"
      ]
     },
     "metadata": {
      "needs_background": "light"
     },
     "output_type": "display_data"
    }
   ],
   "source": [
    "plt.matshow(grid)"
   ]
  },
  {
   "cell_type": "code",
   "execution_count": 100,
   "metadata": {},
   "outputs": [
    {
     "data": {
      "text/plain": [
       "array([[  0.,   0.,   0., ...,   0.,   0.,   0.],\n",
       "       [  0.,   0.,   7., ...,  96., 103., 102.],\n",
       "       [  0.,   3.,   4., ...,  99., 100., 101.],\n",
       "       ...,\n",
       "       [  0.,  96., 103., ...,   0.,   7.,   6.],\n",
       "       [  0.,  99., 100., ...,   0.,   4.,   5.],\n",
       "       [  0.,  98., 101., ...,   0.,   0.,   4.]])"
      ]
     },
     "execution_count": 100,
     "metadata": {},
     "output_type": "execute_result"
    }
   ],
   "source": [
    "grid2"
   ]
  },
  {
   "cell_type": "code",
   "execution_count": 72,
   "metadata": {},
   "outputs": [
    {
     "name": "stderr",
     "output_type": "stream",
     "text": [
      "\n",
      "  0%|                                                                                          | 0/150 [00:00<?, ?it/s]\u001b[A\n",
      "  2%|█▋                                                                                | 3/150 [00:00<00:06, 21.05it/s]\u001b[A\n",
      "  3%|██▏                                                                               | 4/150 [00:00<00:09, 14.96it/s]\u001b[A\n",
      "  4%|███▎                                                                              | 6/150 [00:00<00:11, 12.32it/s]\u001b[A\n",
      "  5%|███▊                                                                              | 7/150 [00:00<00:13, 10.41it/s]\u001b[A\n",
      "  5%|████▎                                                                             | 8/150 [00:00<00:16,  8.77it/s]\u001b[A\n",
      "  6%|████▉                                                                             | 9/150 [00:00<00:20,  6.86it/s]\u001b[A\n",
      "  7%|█████▍                                                                           | 10/150 [00:01<00:21,  6.42it/s]\u001b[A\n",
      "  7%|█████▉                                                                           | 11/150 [00:01<00:24,  5.62it/s]\u001b[A\n",
      "  8%|██████▍                                                                          | 12/150 [00:01<00:26,  5.30it/s]\u001b[A\n",
      "  9%|███████                                                                          | 13/150 [00:01<00:29,  4.63it/s]\u001b[A\n",
      "  9%|███████▌                                                                         | 14/150 [00:02<00:31,  4.28it/s]\u001b[A\n",
      " 10%|████████                                                                         | 15/150 [00:02<00:32,  4.13it/s]\u001b[A\n",
      " 11%|████████▋                                                                        | 16/150 [00:02<00:36,  3.69it/s]\u001b[A\n",
      " 11%|█████████▏                                                                       | 17/150 [00:03<00:38,  3.43it/s]\u001b[A\n",
      " 12%|█████████▋                                                                       | 18/150 [00:03<00:40,  3.29it/s]\u001b[A\n",
      " 13%|██████████▎                                                                      | 19/150 [00:03<00:41,  3.14it/s]\u001b[A\n",
      " 13%|██████████▊                                                                      | 20/150 [00:04<00:42,  3.06it/s]\u001b[A\n",
      " 14%|███████████▎                                                                     | 21/150 [00:04<00:46,  2.79it/s]\u001b[A\n",
      " 15%|███████████▉                                                                     | 22/150 [00:04<00:48,  2.66it/s]\u001b[A\n",
      " 15%|████████████▍                                                                    | 23/150 [00:05<00:49,  2.56it/s]\u001b[A\n",
      " 16%|████████████▉                                                                    | 24/150 [00:05<00:50,  2.49it/s]\u001b[A\n",
      " 17%|█████████████▌                                                                   | 25/150 [00:06<00:53,  2.33it/s]\u001b[A\n",
      " 17%|██████████████                                                                   | 26/150 [00:06<00:55,  2.24it/s]\u001b[A\n",
      " 18%|██████████████▌                                                                  | 27/150 [00:07<00:55,  2.23it/s]\u001b[A\n",
      " 19%|███████████████                                                                  | 28/150 [00:07<00:57,  2.12it/s]\u001b[A\n",
      " 19%|███████████████▋                                                                 | 29/150 [00:08<00:57,  2.09it/s]\u001b[A\n",
      " 20%|████████████████▏                                                                | 30/150 [00:08<01:00,  1.98it/s]\u001b[A\n",
      " 21%|████████████████▋                                                                | 31/150 [00:09<01:01,  1.93it/s]\u001b[A\n",
      " 21%|█████████████████▎                                                               | 32/150 [00:09<01:01,  1.90it/s]\u001b[A\n",
      " 22%|█████████████████▊                                                               | 33/150 [00:10<01:03,  1.84it/s]\u001b[A\n",
      " 23%|██████████████████▎                                                              | 34/150 [00:11<01:07,  1.73it/s]\u001b[A\n",
      " 23%|██████████████████▉                                                              | 35/150 [00:11<01:08,  1.68it/s]\u001b[A\n",
      " 24%|███████████████████▍                                                             | 36/150 [00:12<01:09,  1.64it/s]\u001b[A\n",
      " 25%|███████████████████▉                                                             | 37/150 [00:13<01:09,  1.63it/s]\u001b[A\n",
      " 25%|████████████████████▌                                                            | 38/150 [00:13<01:11,  1.57it/s]\u001b[A\n",
      " 26%|█████████████████████                                                            | 39/150 [00:14<01:10,  1.56it/s]\u001b[A\n",
      " 27%|█████████████████████▌                                                           | 40/150 [00:15<01:13,  1.50it/s]\u001b[A\n",
      " 27%|██████████████████████▏                                                          | 41/150 [00:15<01:13,  1.49it/s]\u001b[A\n",
      " 28%|██████████████████████▋                                                          | 42/150 [00:16<01:13,  1.47it/s]\u001b[A\n",
      " 29%|███████████████████████▏                                                         | 43/150 [00:17<01:15,  1.42it/s]\u001b[A\n",
      " 29%|███████████████████████▊                                                         | 44/150 [00:18<01:14,  1.42it/s]\u001b[A\n",
      " 30%|████████████████████████▎                                                        | 45/150 [00:18<01:15,  1.38it/s]\u001b[A\n",
      " 31%|████████████████████████▊                                                        | 46/150 [00:19<01:15,  1.38it/s]\u001b[A\n",
      " 31%|█████████████████████████▍                                                       | 47/150 [00:20<01:17,  1.34it/s]\u001b[A\n",
      " 32%|█████████████████████████▉                                                       | 48/150 [00:21<01:18,  1.31it/s]\u001b[A\n",
      " 33%|██████████████████████████▍                                                      | 49/150 [00:21<01:18,  1.28it/s]\u001b[A\n",
      " 33%|███████████████████████████                                                      | 50/150 [00:22<01:19,  1.26it/s]\u001b[A"
     ]
    },
    {
     "name": "stdout",
     "output_type": "stream",
     "text": [
      "[6]\n",
      "[6, 22]\n"
     ]
    },
    {
     "name": "stderr",
     "output_type": "stream",
     "text": [
      "\n",
      " 34%|███████████████████████████▌                                                     | 51/150 [00:23<01:19,  1.24it/s]\u001b[A\n",
      " 35%|████████████████████████████                                                     | 52/150 [00:24<01:20,  1.21it/s]\u001b[A"
     ]
    },
    {
     "name": "stdout",
     "output_type": "stream",
     "text": [
      "[1]\n",
      "[1, 63]\n"
     ]
    },
    {
     "name": "stderr",
     "output_type": "stream",
     "text": [
      "\n",
      " 35%|████████████████████████████▌                                                    | 53/150 [00:25<01:19,  1.22it/s]\u001b[A\n",
      " 36%|█████████████████████████████▏                                                   | 54/150 [00:26<01:18,  1.22it/s]\u001b[A\n",
      " 37%|█████████████████████████████▋                                                   | 55/150 [00:26<01:18,  1.20it/s]\u001b[A\n",
      " 37%|██████████████████████████████▏                                                  | 56/150 [00:27<01:18,  1.20it/s]\u001b[A"
     ]
    },
    {
     "name": "stdout",
     "output_type": "stream",
     "text": [
      "[86]\n"
     ]
    },
    {
     "name": "stderr",
     "output_type": "stream",
     "text": [
      "\n",
      " 38%|██████████████████████████████▊                                                  | 57/150 [00:28<01:19,  1.17it/s]\u001b[A\n",
      " 39%|███████████████████████████████▎                                                 | 58/150 [00:29<01:17,  1.19it/s]\u001b[A\n",
      " 39%|███████████████████████████████▊                                                 | 59/150 [00:30<01:19,  1.15it/s]\u001b[A"
     ]
    },
    {
     "name": "stdout",
     "output_type": "stream",
     "text": [
      "[18]\n"
     ]
    },
    {
     "name": "stderr",
     "output_type": "stream",
     "text": [
      "\n",
      " 40%|████████████████████████████████▍                                                | 60/150 [00:31<01:19,  1.13it/s]\u001b[A\n",
      " 41%|████████████████████████████████▉                                                | 61/150 [00:32<01:18,  1.13it/s]\u001b[A\n",
      " 41%|█████████████████████████████████▍                                               | 62/150 [00:33<01:19,  1.10it/s]\u001b[A\n",
      " 42%|██████████████████████████████████                                               | 63/150 [00:34<01:18,  1.11it/s]\u001b[A\n",
      " 43%|██████████████████████████████████▌                                              | 64/150 [00:35<01:20,  1.07it/s]\u001b[A\n",
      " 43%|███████████████████████████████████                                              | 65/150 [00:36<01:19,  1.06it/s]\u001b[A\n",
      " 44%|███████████████████████████████████▋                                             | 66/150 [00:37<01:20,  1.05it/s]\u001b[A"
     ]
    },
    {
     "name": "stdout",
     "output_type": "stream",
     "text": [
      "[37]\n"
     ]
    },
    {
     "name": "stderr",
     "output_type": "stream",
     "text": [
      "\n",
      " 45%|████████████████████████████████████▏                                            | 67/150 [00:38<01:19,  1.04it/s]\u001b[A"
     ]
    },
    {
     "name": "stdout",
     "output_type": "stream",
     "text": [
      "[37, 88]\n"
     ]
    },
    {
     "name": "stderr",
     "output_type": "stream",
     "text": [
      "\n",
      " 45%|████████████████████████████████████▋                                            | 68/150 [00:38<01:18,  1.04it/s]\u001b[A\n",
      " 46%|█████████████████████████████████████▎                                           | 69/150 [00:39<01:18,  1.03it/s]\u001b[A"
     ]
    },
    {
     "name": "stdout",
     "output_type": "stream",
     "text": [
      "[62]\n"
     ]
    },
    {
     "name": "stderr",
     "output_type": "stream",
     "text": [
      "\n",
      " 47%|█████████████████████████████████████▊                                           | 70/150 [00:40<01:17,  1.03it/s]\u001b[A\n",
      " 47%|██████████████████████████████████████▎                                          | 71/150 [00:41<01:16,  1.03it/s]\u001b[A"
     ]
    },
    {
     "name": "stdout",
     "output_type": "stream",
     "text": [
      "[80]\n"
     ]
    },
    {
     "name": "stderr",
     "output_type": "stream",
     "text": [
      "\n",
      " 48%|██████████████████████████████████████▉                                          | 72/150 [00:42<01:17,  1.01it/s]\u001b[A\n",
      " 49%|███████████████████████████████████████▍                                         | 73/150 [00:43<01:15,  1.02it/s]\u001b[A"
     ]
    },
    {
     "name": "stdout",
     "output_type": "stream",
     "text": [
      "[70]\n",
      "[0]\n"
     ]
    },
    {
     "name": "stderr",
     "output_type": "stream",
     "text": [
      "\n",
      " 49%|███████████████████████████████████████▉                                         | 74/150 [00:44<01:14,  1.01it/s]\u001b[A\n",
      " 50%|████████████████████████████████████████▌                                        | 75/150 [00:45<01:13,  1.03it/s]\u001b[A"
     ]
    },
    {
     "name": "stdout",
     "output_type": "stream",
     "text": [
      "[29]\n"
     ]
    },
    {
     "name": "stderr",
     "output_type": "stream",
     "text": [
      "\n",
      " 51%|█████████████████████████████████████████                                        | 76/150 [00:46<01:13,  1.01it/s]\u001b[A"
     ]
    },
    {
     "name": "stdout",
     "output_type": "stream",
     "text": [
      "[17]\n"
     ]
    },
    {
     "name": "stderr",
     "output_type": "stream",
     "text": [
      "\n",
      " 51%|█████████████████████████████████████████▌                                       | 77/150 [00:47<01:13,  1.01s/it]\u001b[A"
     ]
    },
    {
     "name": "stdout",
     "output_type": "stream",
     "text": [
      "[38]\n",
      "[38, 50]\n"
     ]
    },
    {
     "name": "stderr",
     "output_type": "stream",
     "text": [
      "\n",
      " 52%|██████████████████████████████████████████                                       | 78/150 [00:48<01:11,  1.00it/s]\u001b[A"
     ]
    },
    {
     "name": "stdout",
     "output_type": "stream",
     "text": [
      "[38, 50, 66]\n"
     ]
    },
    {
     "name": "stderr",
     "output_type": "stream",
     "text": [
      "\n",
      " 53%|██████████████████████████████████████████▋                                      | 79/150 [00:49<01:09,  1.02it/s]\u001b[A\n",
      " 53%|███████████████████████████████████████████▏                                     | 80/150 [00:50<01:08,  1.03it/s]\u001b[A"
     ]
    },
    {
     "name": "stdout",
     "output_type": "stream",
     "text": [
      "[4]\n",
      "[4, 22]\n",
      "[4, 22, 42]\n"
     ]
    },
    {
     "name": "stderr",
     "output_type": "stream",
     "text": [
      "\n",
      " 54%|███████████████████████████████████████████▋                                     | 81/150 [00:51<01:08,  1.01it/s]\u001b[A"
     ]
    },
    {
     "name": "stdout",
     "output_type": "stream",
     "text": [
      "[2]\n",
      "[2, 47]\n",
      "[2, 47, 49]\n"
     ]
    },
    {
     "name": "stderr",
     "output_type": "stream",
     "text": [
      "\n",
      " 55%|████████████████████████████████████████████▎                                    | 82/150 [00:52<01:06,  1.02it/s]\u001b[A"
     ]
    },
    {
     "name": "stdout",
     "output_type": "stream",
     "text": [
      "[40]\n",
      "[40, 52]\n"
     ]
    },
    {
     "name": "stderr",
     "output_type": "stream",
     "text": [
      "\n",
      " 55%|████████████████████████████████████████████▊                                    | 83/150 [00:53<01:04,  1.04it/s]\u001b[A"
     ]
    },
    {
     "name": "stdout",
     "output_type": "stream",
     "text": [
      "[42]\n",
      "[42, 43]\n"
     ]
    },
    {
     "name": "stderr",
     "output_type": "stream",
     "text": [
      "\n",
      " 56%|█████████████████████████████████████████████▎                                   | 84/150 [00:54<01:01,  1.06it/s]\u001b[A"
     ]
    },
    {
     "name": "stdout",
     "output_type": "stream",
     "text": [
      "[35]\n",
      "[35, 39]\n"
     ]
    },
    {
     "name": "stderr",
     "output_type": "stream",
     "text": [
      "\n",
      " 57%|█████████████████████████████████████████████▉                                   | 85/150 [00:55<01:00,  1.07it/s]\u001b[A"
     ]
    },
    {
     "name": "stdout",
     "output_type": "stream",
     "text": [
      "[35, 39, 68]\n",
      "[18]\n",
      "[18, 37]\n",
      "[18, 37, 56]\n"
     ]
    },
    {
     "name": "stderr",
     "output_type": "stream",
     "text": [
      "\n",
      " 57%|██████████████████████████████████████████████▍                                  | 86/150 [00:56<00:58,  1.09it/s]\u001b[A"
     ]
    },
    {
     "name": "stdout",
     "output_type": "stream",
     "text": [
      "[43]\n"
     ]
    },
    {
     "name": "stderr",
     "output_type": "stream",
     "text": [
      "\n",
      " 58%|██████████████████████████████████████████████▉                                  | 87/150 [00:57<00:56,  1.12it/s]\u001b[A\n",
      " 59%|███████████████████████████████████████████████▌                                 | 88/150 [00:58<00:53,  1.15it/s]\u001b[A"
     ]
    },
    {
     "name": "stdout",
     "output_type": "stream",
     "text": [
      "[20]\n",
      "[20, 39]\n"
     ]
    },
    {
     "name": "stderr",
     "output_type": "stream",
     "text": [
      "\n",
      " 59%|████████████████████████████████████████████████                                 | 89/150 [00:58<00:53,  1.15it/s]\u001b[A"
     ]
    },
    {
     "name": "stdout",
     "output_type": "stream",
     "text": [
      "[17]\n"
     ]
    },
    {
     "name": "stderr",
     "output_type": "stream",
     "text": [
      "\n",
      " 60%|████████████████████████████████████████████████▌                                | 90/150 [00:59<00:51,  1.17it/s]\u001b[A"
     ]
    },
    {
     "name": "stdout",
     "output_type": "stream",
     "text": [
      "[17, 58]\n",
      "[14]\n",
      "[14, 17]\n"
     ]
    },
    {
     "name": "stderr",
     "output_type": "stream",
     "text": [
      "\n",
      " 61%|█████████████████████████████████████████████████▏                               | 91/150 [01:00<00:49,  1.19it/s]\u001b[A"
     ]
    },
    {
     "name": "stdout",
     "output_type": "stream",
     "text": [
      "[14, 17, 49]\n",
      "[14, 17, 49, 51]\n",
      "[14]\n"
     ]
    },
    {
     "name": "stderr",
     "output_type": "stream",
     "text": [
      "\n"
     ]
    },
    {
     "name": "stdout",
     "output_type": "stream",
     "text": [
      "[14, 32]\n",
      "[14, 32, 35]\n",
      "[14, 32, 35, 42]\n"
     ]
    },
    {
     "name": "stderr",
     "output_type": "stream",
     "text": [
      " 61%|█████████████████████████████████████████████████▋                               | 92/150 [01:01<00:46,  1.24it/s]\u001b[A"
     ]
    },
    {
     "name": "stdout",
     "output_type": "stream",
     "text": [
      "[14]\n"
     ]
    },
    {
     "name": "stderr",
     "output_type": "stream",
     "text": [
      "\n",
      " 62%|██████████████████████████████████████████████████▏                              | 93/150 [01:01<00:43,  1.30it/s]\u001b[A\n",
      " 63%|██████████████████████████████████████████████████▊                              | 94/150 [01:02<00:41,  1.35it/s]\u001b[A\n",
      " 63%|███████████████████████████████████████████████████▎                             | 95/150 [01:03<00:39,  1.38it/s]\u001b[A\n",
      " 64%|███████████████████████████████████████████████████▊                             | 96/150 [01:03<00:38,  1.40it/s]\u001b[A"
     ]
    },
    {
     "name": "stdout",
     "output_type": "stream",
     "text": [
      "[40]\n",
      "[40, 43]\n",
      "[6]\n"
     ]
    },
    {
     "name": "stderr",
     "output_type": "stream",
     "text": [
      "\n",
      " 65%|████████████████████████████████████████████████████▍                            | 97/150 [01:04<00:37,  1.42it/s]\u001b[A"
     ]
    },
    {
     "name": "stdout",
     "output_type": "stream",
     "text": [
      "[29]\n",
      "[29, 33]\n"
     ]
    },
    {
     "name": "stderr",
     "output_type": "stream",
     "text": [
      "\n",
      " 65%|████████████████████████████████████████████████████▉                            | 98/150 [01:05<00:36,  1.41it/s]\u001b[A"
     ]
    },
    {
     "name": "stdout",
     "output_type": "stream",
     "text": [
      "[15]\n"
     ]
    },
    {
     "name": "stderr",
     "output_type": "stream",
     "text": [
      "\n",
      " 66%|█████████████████████████████████████████████████████▍                           | 99/150 [01:06<00:34,  1.47it/s]\u001b[A\n",
      " 67%|█████████████████████████████████████████████████████▎                          | 100/150 [01:06<00:33,  1.50it/s]\u001b[A"
     ]
    },
    {
     "name": "stdout",
     "output_type": "stream",
     "text": [
      "[36]\n"
     ]
    },
    {
     "name": "stderr",
     "output_type": "stream",
     "text": [
      "\n",
      " 67%|█████████████████████████████████████████████████████▊                          | 101/150 [01:07<00:31,  1.56it/s]\u001b[A"
     ]
    },
    {
     "name": "stdout",
     "output_type": "stream",
     "text": [
      "[12]\n"
     ]
    },
    {
     "name": "stderr",
     "output_type": "stream",
     "text": [
      "\n",
      " 68%|██████████████████████████████████████████████████████▍                         | 102/150 [01:07<00:30,  1.55it/s]\u001b[A\n",
      " 69%|██████████████████████████████████████████████████████▉                         | 103/150 [01:08<00:30,  1.56it/s]\u001b[A"
     ]
    },
    {
     "name": "stdout",
     "output_type": "stream",
     "text": [
      "[29]\n",
      "[29, 40]\n"
     ]
    },
    {
     "name": "stderr",
     "output_type": "stream",
     "text": [
      "\n",
      " 69%|███████████████████████████████████████████████████████▍                        | 104/150 [01:09<00:28,  1.61it/s]\u001b[A"
     ]
    },
    {
     "name": "stdout",
     "output_type": "stream",
     "text": [
      "[15]\n"
     ]
    },
    {
     "name": "stderr",
     "output_type": "stream",
     "text": [
      "\n",
      " 70%|████████████████████████████████████████████████████████                        | 105/150 [01:09<00:27,  1.63it/s]\u001b[A"
     ]
    },
    {
     "name": "stdout",
     "output_type": "stream",
     "text": [
      "[7]\n",
      "[7, 14]\n"
     ]
    },
    {
     "name": "stderr",
     "output_type": "stream",
     "text": [
      "\n",
      " 71%|████████████████████████████████████████████████████████▌                       | 106/150 [01:10<00:26,  1.66it/s]\u001b[A"
     ]
    },
    {
     "name": "stdout",
     "output_type": "stream",
     "text": [
      "[7, 14, 34]\n"
     ]
    },
    {
     "name": "stderr",
     "output_type": "stream",
     "text": [
      "\n",
      " 71%|█████████████████████████████████████████████████████████                       | 107/150 [01:10<00:25,  1.70it/s]\u001b[A"
     ]
    },
    {
     "name": "stdout",
     "output_type": "stream",
     "text": [
      "[17]\n"
     ]
    },
    {
     "name": "stderr",
     "output_type": "stream",
     "text": [
      "\n",
      " 72%|█████████████████████████████████████████████████████████▌                      | 108/150 [01:11<00:24,  1.72it/s]\u001b[A"
     ]
    },
    {
     "name": "stdout",
     "output_type": "stream",
     "text": [
      "[7]\n"
     ]
    },
    {
     "name": "stderr",
     "output_type": "stream",
     "text": [
      "\n",
      " 73%|██████████████████████████████████████████████████████████▏                     | 109/150 [01:11<00:23,  1.77it/s]\u001b[A\n",
      " 73%|██████████████████████████████████████████████████████████▋                     | 110/150 [01:12<00:22,  1.80it/s]\u001b[A\n",
      " 74%|███████████████████████████████████████████████████████████▏                    | 111/150 [01:12<00:21,  1.84it/s]\u001b[A"
     ]
    },
    {
     "name": "stdout",
     "output_type": "stream",
     "text": [
      "[0]\n"
     ]
    },
    {
     "name": "stderr",
     "output_type": "stream",
     "text": [
      "\n"
     ]
    },
    {
     "name": "stdout",
     "output_type": "stream",
     "text": [
      "[0, 12]\n"
     ]
    },
    {
     "name": "stderr",
     "output_type": "stream",
     "text": [
      " 75%|███████████████████████████████████████████████████████████▋                    | 112/150 [01:13<00:20,  1.85it/s]\u001b[A\n",
      " 75%|████████████████████████████████████████████████████████████▎                   | 113/150 [01:13<00:19,  1.90it/s]\u001b[A"
     ]
    },
    {
     "name": "stdout",
     "output_type": "stream",
     "text": [
      "[5]\n",
      "[5, 14]\n"
     ]
    },
    {
     "name": "stderr",
     "output_type": "stream",
     "text": [
      "\n",
      " 76%|████████████████████████████████████████████████████████████▊                   | 114/150 [01:14<00:18,  1.92it/s]\u001b[A"
     ]
    },
    {
     "name": "stdout",
     "output_type": "stream",
     "text": [
      "[5, 14, 30]\n",
      "[0]\n"
     ]
    },
    {
     "name": "stderr",
     "output_type": "stream",
     "text": [
      "\n",
      " 77%|█████████████████████████████████████████████████████████████▎                  | 115/150 [01:14<00:17,  1.96it/s]\u001b[A"
     ]
    },
    {
     "name": "stdout",
     "output_type": "stream",
     "text": [
      "[0, 16]\n",
      "[0, 16, 20]\n"
     ]
    },
    {
     "name": "stderr",
     "output_type": "stream",
     "text": [
      "\n"
     ]
    },
    {
     "name": "stdout",
     "output_type": "stream",
     "text": [
      "[5]\n"
     ]
    },
    {
     "name": "stderr",
     "output_type": "stream",
     "text": [
      " 77%|█████████████████████████████████████████████████████████████▊                  | 116/150 [01:15<00:16,  2.07it/s]\u001b[A\n",
      " 78%|██████████████████████████████████████████████████████████████▍                 | 117/150 [01:15<00:15,  2.19it/s]\u001b[A\n",
      " 79%|██████████████████████████████████████████████████████████████▉                 | 118/150 [01:16<00:14,  2.28it/s]\u001b[A\n",
      " 79%|███████████████████████████████████████████████████████████████▍                | 119/150 [01:16<00:13,  2.35it/s]\u001b[A"
     ]
    },
    {
     "name": "stdout",
     "output_type": "stream",
     "text": [
      "[2]\n"
     ]
    },
    {
     "name": "stderr",
     "output_type": "stream",
     "text": [
      "\n",
      " 80%|████████████████████████████████████████████████████████████████                | 120/150 [01:16<00:12,  2.37it/s]\u001b[A"
     ]
    },
    {
     "name": "stdout",
     "output_type": "stream",
     "text": [
      "[2, 20]\n"
     ]
    },
    {
     "name": "stderr",
     "output_type": "stream",
     "text": [
      "\n",
      " 81%|████████████████████████████████████████████████████████████████▌               | 121/150 [01:17<00:11,  2.43it/s]\u001b[A\n",
      " 81%|█████████████████████████████████████████████████████████████████               | 122/150 [01:17<00:11,  2.48it/s]\u001b[A"
     ]
    },
    {
     "name": "stdout",
     "output_type": "stream",
     "text": [
      "[20]\n",
      "[0]\n"
     ]
    },
    {
     "name": "stderr",
     "output_type": "stream",
     "text": [
      "\n",
      " 82%|█████████████████████████████████████████████████████████████████▌              | 123/150 [01:18<00:10,  2.54it/s]\u001b[A"
     ]
    },
    {
     "name": "stdout",
     "output_type": "stream",
     "text": [
      "[0, 12]\n",
      "[0, 12, 17]\n"
     ]
    },
    {
     "name": "stderr",
     "output_type": "stream",
     "text": [
      "\n",
      " 83%|██████████████████████████████████████████████████████████████████▏             | 124/150 [01:18<00:09,  2.70it/s]\u001b[A\n",
      " 83%|██████████████████████████████████████████████████████████████████▋             | 125/150 [01:18<00:08,  2.83it/s]\u001b[A\n",
      " 84%|███████████████████████████████████████████████████████████████████▏            | 126/150 [01:19<00:08,  2.94it/s]\u001b[A"
     ]
    },
    {
     "name": "stdout",
     "output_type": "stream",
     "text": [
      "[15]\n"
     ]
    },
    {
     "name": "stderr",
     "output_type": "stream",
     "text": [
      "\n",
      " 85%|███████████████████████████████████████████████████████████████████▋            | 127/150 [01:19<00:07,  2.97it/s]\u001b[A"
     ]
    },
    {
     "name": "stdout",
     "output_type": "stream",
     "text": [
      "[8]\n",
      "[8, 12]\n"
     ]
    },
    {
     "name": "stderr",
     "output_type": "stream",
     "text": [
      "\n",
      " 85%|████████████████████████████████████████████████████████████████████▎           | 128/150 [01:19<00:06,  3.15it/s]\u001b[A"
     ]
    },
    {
     "name": "stdout",
     "output_type": "stream",
     "text": [
      "[0]\n"
     ]
    },
    {
     "name": "stderr",
     "output_type": "stream",
     "text": [
      "\n",
      " 86%|████████████████████████████████████████████████████████████████████▊           | 129/150 [01:19<00:06,  3.27it/s]\u001b[A\n",
      " 87%|█████████████████████████████████████████████████████████████████████▎          | 130/150 [01:20<00:05,  3.44it/s]\u001b[A\n",
      " 87%|█████████████████████████████████████████████████████████████████████▊          | 131/150 [01:20<00:05,  3.58it/s]\u001b[A"
     ]
    },
    {
     "name": "stdout",
     "output_type": "stream",
     "text": [
      "[12]\n"
     ]
    },
    {
     "name": "stderr",
     "output_type": "stream",
     "text": [
      "\n",
      " 88%|██████████████████████████████████████████████████████████████████████▍         | 132/150 [01:20<00:04,  3.75it/s]\u001b[A\n",
      " 89%|██████████████████████████████████████████████████████████████████████▉         | 133/150 [01:20<00:04,  3.87it/s]\u001b[A\n",
      " 89%|███████████████████████████████████████████████████████████████████████▍        | 134/150 [01:21<00:04,  3.93it/s]\u001b[A\n",
      " 90%|████████████████████████████████████████████████████████████████████████        | 135/150 [01:21<00:03,  4.04it/s]\u001b[A\n",
      " 91%|████████████████████████████████████████████████████████████████████████▌       | 136/150 [01:21<00:03,  4.05it/s]\u001b[A\n",
      " 91%|█████████████████████████████████████████████████████████████████████████       | 137/150 [01:21<00:03,  4.09it/s]\u001b[A\n",
      " 92%|█████████████████████████████████████████████████████████████████████████▌      | 138/150 [01:22<00:02,  4.14it/s]\u001b[A\n",
      " 93%|██████████████████████████████████████████████████████████████████████████▏     | 139/150 [01:22<00:02,  4.12it/s]\u001b[A"
     ]
    },
    {
     "name": "stdout",
     "output_type": "stream",
     "text": [
      "[11]\n",
      "[9]\n"
     ]
    },
    {
     "name": "stderr",
     "output_type": "stream",
     "text": [
      "\n",
      " 93%|██████████████████████████████████████████████████████████████████████████▋     | 140/150 [01:22<00:02,  4.16it/s]\u001b[A\n",
      " 94%|███████████████████████████████████████████████████████████████████████████▏    | 141/150 [01:22<00:02,  4.32it/s]\u001b[A\n",
      " 95%|███████████████████████████████████████████████████████████████████████████▋    | 142/150 [01:23<00:01,  4.45it/s]\u001b[A\n",
      " 95%|████████████████████████████████████████████████████████████████████████████▎   | 143/150 [01:23<00:01,  4.56it/s]\u001b[A\n",
      " 96%|████████████████████████████████████████████████████████████████████████████▊   | 144/150 [01:23<00:01,  4.58it/s]\u001b[A\n",
      " 97%|█████████████████████████████████████████████████████████████████████████████▎  | 145/150 [01:23<00:01,  4.63it/s]\u001b[A\n",
      " 97%|█████████████████████████████████████████████████████████████████████████████▊  | 146/150 [01:23<00:00,  4.60it/s]\u001b[A\n",
      " 98%|██████████████████████████████████████████████████████████████████████████████▍ | 147/150 [01:24<00:00,  4.63it/s]\u001b[A"
     ]
    },
    {
     "name": "stdout",
     "output_type": "stream",
     "text": [
      "[4]\n"
     ]
    },
    {
     "name": "stderr",
     "output_type": "stream",
     "text": [
      "\n",
      " 99%|██████████████████████████████████████████████████████████████████████████████▉ | 148/150 [01:24<00:00,  4.69it/s]\u001b[A\n",
      " 99%|███████████████████████████████████████████████████████████████████████████████▍| 149/150 [01:24<00:00,  4.74it/s]\u001b[A"
     ]
    },
    {
     "name": "stdout",
     "output_type": "stream",
     "text": [
      "[3]\n",
      "[3, 6]\n"
     ]
    },
    {
     "name": "stderr",
     "output_type": "stream",
     "text": [
      "\n",
      "100%|████████████████████████████████████████████████████████████████████████████████| 150/150 [01:24<00:00,  1.77it/s]\u001b[A\n"
     ]
    }
   ],
   "source": [
    "\n",
    "grid = np.zeros((size, size))\n",
    "\n",
    "prev = [(0, 0)]\n",
    "\n",
    "count = 0\n",
    "for p in points:\n",
    "    count += 1\n",
    "    grid[p[0]][p[1]] = count\n",
    "\n",
    "\n",
    "for i in tqdm(range(150)):\n",
    "    x_p, y_p = get_points(i+1)\n",
    "    p_point = np.asarray([x_p, y_p])\n",
    "    points_two = np.swapaxes(p_point,0,1)\n",
    "    \n",
    "    for i in range(points_two.shape[0]):\n",
    "        points_two = np.append(points_two, [[-points_two[i][0], -points_two[i][1]]], axis=0)\n",
    "        points_two = np.append(points_two, [[points_two[i][0], -points_two[i][1]]], axis=0)\n",
    "        points_two = np.append(points_two, [[-points_two[i][0], points_two[i][1]]], axis=0)\n",
    "\n",
    "    count = 0\n",
    "    rem = []\n",
    "    for p in points:\n",
    "        count += 1\n",
    "        flag = False\n",
    "        for val in points_two:\n",
    "            if (p[0]+val[0] < size and p[0]+val[0] > 0  and  p[1]+val[1] < size and p[1]+val[1] > 0):\n",
    "                if(grid[p[0]+val[0]][p[1]+val[1]] == 0):\n",
    "                        grid[p[0]+val[0]][p[1]+val[1]] = count\n",
    "                        flag = True\n",
    "        if (not flag):\n",
    "            rem.append(count-1)\n",
    "            print(rem)\n",
    "    points = np.delete(points, rem, axis=0)"
   ]
  },
  {
   "cell_type": "code",
   "execution_count": 73,
   "metadata": {},
   "outputs": [
    {
     "data": {
      "text/plain": [
       "<matplotlib.image.AxesImage at 0x212393a9048>"
      ]
     },
     "execution_count": 73,
     "metadata": {},
     "output_type": "execute_result"
    },
    {
     "data": {
      "image/png": "[encoded data removed]",
      "text/plain": [
       "<Figure size 288x288 with 1 Axes>"
      ]
     },
     "metadata": {
      "needs_background": "light"
     },
     "output_type": "display_data"
    }
   ],
   "source": [
    "plt.matshow(grid)"
   ]
  },
  {
   "cell_type": "code",
   "execution_count": null,
   "metadata": {},
   "outputs": [],
   "source": []
  }
 ],
 "metadata": {
  "kernelspec": {
   "display_name": "Python 3",
   "language": "python",
   "name": "python3"
  },
  "language_info": {
   "codemirror_mode": {
    "name": "ipython",
    "version": 3
   },
   "file_extension": ".py",
   "mimetype": "text/x-python",
   "name": "python",
   "nbconvert_exporter": "python",
   "pygments_lexer": "ipython3",
   "version": "3.7.6"
  }
 },
 "nbformat": 4,
 "nbformat_minor": 4
}
